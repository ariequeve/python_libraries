{
  "nbformat": 4,
  "nbformat_minor": 0,
  "metadata": {
    "colab": {
      "name": "00 - Configuracion de Ambiente en Colab.ipynb",
      "provenance": [],
      "collapsed_sections": []
    },
    "kernelspec": {
      "name": "python3",
      "display_name": "Python 3"
    },
    "language_info": {
      "name": "python"
    }
  },
  "cells": [
    {
      "cell_type": "code",
      "source": [
        "#Importo todas las librerías que se usarán\n",
        "from google.colab import drive\n",
        "import os \n",
        "import requests"
      ],
      "metadata": {
        "id": "YALhmBqg0x1O"
      },
      "execution_count": 1,
      "outputs": []
    },
    {
      "cell_type": "code",
      "source": [
        "#Levanto drive para poder almacenar los archivos\n",
        "drive.mount(\"/content/drive\")"
      ],
      "metadata": {
        "id": "h4bKnqpr8UoT",
        "outputId": "4e89cd93-c5ca-490a-e1c2-d265d855eb63",
        "colab": {
          "base_uri": "https://localhost:8080/"
        }
      },
      "execution_count": 2,
      "outputs": [
        {
          "output_type": "stream",
          "name": "stdout",
          "text": [
            "Mounted at /content/drive\n"
          ]
        }
      ]
    },
    {
      "cell_type": "code",
      "source": [
        "#Si no existe la carpeta para almacenar los activos del curso lo creo, sino no\n",
        "contentFolder = \"/content/drive/MyDrive/Austral - Data Mining\"\n",
        "if not os.path.exists(contentFolder):\n",
        "  os.mkdir(contentFolder)"
      ],
      "metadata": {
        "id": "eanVxaFI7EM3"
      },
      "execution_count": 3,
      "outputs": []
    },
    {
      "cell_type": "code",
      "source": [
        "#Ubicación del Archivo Covid19Casos.zip\n",
        "urlCovid = \"https://drive.google.com/u/0/uc?id=1l3eXG4w9ta84V9f2sqfKGzoU0in8Ficf&export=download&confirm=t&uuid=37ef8f13-b59f-4568-b106-dc1dc66dfa7a\"\n",
        "r = requests.get(urlCovid)\n",
        "open(\"{}/Covid19Casos.zip\".format(contentFolder), \"wb\").write(r.content)\n",
        "\n",
        "urlCovidReducido = \"https://drive.google.com/u/0/uc?id=1DrxSzrJBjGb0L4YsdICNZBtCZC4Ew_K5&export=download&confirm=t&uuid=3419f4a5-5629-4714-846e-e874bcc4f89a\"\n",
        "r = requests.get(urlCovidReducido)\n",
        "open(\"{}/Covid19CasosReducido.zip\".format(contentFolder), \"wb\").write(r.content)\n",
        "\n",
        "\n",
        "#Ubicación del archivo Orders\n",
        "urlOrdersDetails = \"https://drive.google.com/uc?id=1ycMBmIHJnRBHlluaihby6ckIEuS8Tqzu\"\n",
        "r = requests.get(urlOrdersDetails)\n",
        "open(\"{}/ordersDetails.txt\".format(contentFolder), \"wb\").write(r.content)\n",
        "\n",
        "#Ubicación del archivo ordersDetails\n",
        "urlOrders = \"https://drive.google.com/uc?id=1egfg_5k_K1Vypbl_UbWNIqP-_hQNowCv\"\n",
        "r = requests.get(urlOrders)\n",
        "open(\"{}/orders.txt\".format(contentFolder), \"wb\").write(r.content)"
      ],
      "metadata": {
        "id": "QgtwEDXILbJt",
        "outputId": "03f33c54-2bb3-47e9-cadd-323c25a86f7a",
        "colab": {
          "base_uri": "https://localhost:8080/"
        }
      },
      "execution_count": 4,
      "outputs": [
        {
          "output_type": "execute_result",
          "data": {
            "text/plain": [
              "19772972"
            ]
          },
          "metadata": {},
          "execution_count": 4
        }
      ]
    }
  ]
}